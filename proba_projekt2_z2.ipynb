{
  "nbformat": 4,
  "nbformat_minor": 0,
  "metadata": {
    "colab": {
      "provenance": [],
      "gpuType": "T4"
    },
    "kernelspec": {
      "name": "python3",
      "display_name": "Python 3"
    },
    "language_info": {
      "name": "python"
    },
    "accelerator": "GPU"
  },
  "cells": [
    {
      "cell_type": "markdown",
      "source": [
        "Zadanie 2"
      ],
      "metadata": {
        "id": "axXUzjswgDFU"
      }
    },
    {
      "cell_type": "code",
      "source": [
        "import seaborn as sns\n",
        "import matplotlib.pyplot as plt\n",
        "import pandas as pd\n",
        "from scipy.stats import mannwhitneyu\n",
        "from statsmodels.stats.multitest import multipletests"
      ],
      "metadata": {
        "id": "4VWE_d4mc2yw"
      },
      "execution_count": 1,
      "outputs": []
    },
    {
      "cell_type": "code",
      "execution_count": 2,
      "metadata": {
        "id": "5-WpQTuFcSDc"
      },
      "outputs": [],
      "source": [
        "#Wczytuję dane\n",
        "plik = pd.read_csv('/content/drive/MyDrive/Biologia systemów/single-cell-tracks_exp1-6_noErbB2.csv.gz')\n",
        "metadata = pd.read_csv('/content/drive/MyDrive/Biologia systemów/01-readme-experiment-description_2022-04-05.csv')"
      ]
    },
    {
      "cell_type": "code",
      "source": [
        "print(plik.columns)\n",
        "# /\\ wypisuje nazwy wszystkich kolumn\n",
        "\n",
        "print(metadata.columns)"
      ],
      "metadata": {
        "colab": {
          "base_uri": "https://localhost:8080/"
        },
        "id": "8Us3nc-Kcz4D",
        "outputId": "c0c5a1f9-ac06-415e-c704-459c3cdc0bb5"
      },
      "execution_count": 3,
      "outputs": [
        {
          "output_type": "stream",
          "name": "stdout",
          "text": [
            "Index(['Exp_ID', 'Image_Metadata_Site', 'track_id', 'Image_Metadata_T',\n",
            "       'Nuclear_size', 'ERKKTR_ratio', 'FoxO3A_ratio',\n",
            "       'objNuclei_Location_Center_X', 'objNuclei_Location_Center_Y'],\n",
            "      dtype='object')\n",
            "Index(['Site', 'Cell_Line', 'Mutation', 'Biosensors', 'Conditions',\n",
            "       'Acquisition_frequency_min', 'Duration_h'],\n",
            "      dtype='object')\n"
          ]
        }
      ]
    },
    {
      "cell_type": "code",
      "source": [
        "#Tworzę słownik mutacji z pliku metadata\n",
        "site_to_mutation = dict(zip(metadata['Site'], metadata['Mutation']))\n",
        "\n",
        "# Mapuję słownik do danych z pliku tworząc nową kolumnę z typem mutacji\n",
        "plik['Mutation'] = plik['Image_Metadata_Site'].map(site_to_mutation)"
      ],
      "metadata": {
        "id": "dvZgNLE3fJ-R"
      },
      "execution_count": 4,
      "outputs": []
    },
    {
      "cell_type": "code",
      "source": [
        "print(plik.columns)\n",
        "# /\\ wypisuje nazwy wszystkich kolumn\n",
        "\n",
        "print(metadata.columns)"
      ],
      "metadata": {
        "colab": {
          "base_uri": "https://localhost:8080/"
        },
        "id": "S248Ld8of4ya",
        "outputId": "15e5fd00-6fad-468a-a8bb-70148d9ec1aa"
      },
      "execution_count": 5,
      "outputs": [
        {
          "output_type": "stream",
          "name": "stdout",
          "text": [
            "Index(['Exp_ID', 'Image_Metadata_Site', 'track_id', 'Image_Metadata_T',\n",
            "       'Nuclear_size', 'ERKKTR_ratio', 'FoxO3A_ratio',\n",
            "       'objNuclei_Location_Center_X', 'objNuclei_Location_Center_Y',\n",
            "       'Mutation'],\n",
            "      dtype='object')\n",
            "Index(['Site', 'Cell_Line', 'Mutation', 'Biosensors', 'Conditions',\n",
            "       'Acquisition_frequency_min', 'Duration_h'],\n",
            "      dtype='object')\n"
          ]
        }
      ]
    },
    {
      "cell_type": "markdown",
      "source": [
        "Baseline - wyznaczam go jako 10% dolnych wartości w przebiegu. Aktywne komórki muszą go przekroczyć o co najmniej jedno odhylenie standardowe"
      ],
      "metadata": {
        "id": "VrBs-Tq0glOD"
      }
    },
    {
      "cell_type": "code",
      "source": [
        "pd.options.mode.string_storage = 'python'\n",
        "import numpy as np\n",
        "\n",
        "# Wybieram ścieżkę sygnałową\n",
        "signal_col = 'ERKKTR_ratio'\n",
        "\n",
        "# Obliczam baseline dla każdej komórki\n",
        "def define_baseline(group):\n",
        "    baseline = group[signal_col].quantile(0.1)\n",
        "    std = group[signal_col].std()\n",
        "    group['is_active'] = group[signal_col] > (baseline + std)\n",
        "    return group\n",
        "\n",
        "pogrupowany_plik = plik.groupby('track_id').apply(define_baseline)\n",
        "print('zrobione')"
      ],
      "metadata": {
        "colab": {
          "base_uri": "https://localhost:8080/"
        },
        "id": "2A-aaeo-gQlb",
        "outputId": "f2cd5032-2de0-4ab8-f4ab-873015e987e4"
      },
      "execution_count": 6,
      "outputs": [
        {
          "output_type": "stream",
          "name": "stdout",
          "text": [
            "zrobione\n"
          ]
        },
        {
          "output_type": "stream",
          "name": "stderr",
          "text": [
            "<ipython-input-6-75be8b3e07c4>:14: DeprecationWarning: DataFrameGroupBy.apply operated on the grouping columns. This behavior is deprecated, and in a future version of pandas the grouping columns will be excluded from the operation. Either pass `include_groups=False` to exclude the groupings or explicitly select the grouping columns after groupby to silence this warning.\n",
            "  pogrupowany_plik = plik.groupby('track_id').apply(define_baseline)\n"
          ]
        }
      ]
    },
    {
      "cell_type": "code",
      "source": [
        "print(pogrupowany_plik.columns)"
      ],
      "metadata": {
        "colab": {
          "base_uri": "https://localhost:8080/"
        },
        "id": "qOfd3MvwmKII",
        "outputId": "c0e1e398-1fc9-4c81-8892-45e2c14f796a"
      },
      "execution_count": 7,
      "outputs": [
        {
          "output_type": "stream",
          "name": "stdout",
          "text": [
            "Index(['Exp_ID', 'Image_Metadata_Site', 'track_id', 'Image_Metadata_T',\n",
            "       'Nuclear_size', 'ERKKTR_ratio', 'FoxO3A_ratio',\n",
            "       'objNuclei_Location_Center_X', 'objNuclei_Location_Center_Y',\n",
            "       'Mutation', 'is_active'],\n",
            "      dtype='object')\n"
          ]
        }
      ]
    },
    {
      "cell_type": "code",
      "source": [
        "from scipy.spatial import KDTree\n",
        "\n",
        "# Ustaw promień sąsiedztwa w mikrometrach (możesz dostosować)\n",
        "radius = 50\n",
        "\n",
        "# Lista do wyników\n",
        "results = []\n",
        "\n",
        "# Iterujemy po każdej klatce czasowej i pozycji (miejsce na płytce)\n",
        "for (time, site), frame in pogrupowany_plik.groupby(['Image_Metadata_T', 'Image_Metadata_Site']):\n",
        "    coords = frame[['objNuclei_Location_Center_X', 'objNuclei_Location_Center_Y']].values\n",
        "    tree = KDTree(coords)\n",
        "\n",
        "    # Wektor aktywności\n",
        "    is_active = frame['is_active'].values.astype(bool)\n",
        "\n",
        "    # Dla każdej komórki znajdujemy indeksy sąsiadów w zadanym promieniu\n",
        "    neighbors = tree.query_ball_point(coords, r=radius)\n",
        "\n",
        "    # Liczymy aktywnych sąsiadów\n",
        "    active_neighbor_counts = [\n",
        "        is_active[neigh].sum() - is_active[i]  # odejmujemy siebie samego jeśli aktywny\n",
        "        for i, neigh in enumerate(neighbors)\n",
        "    ]\n",
        "\n",
        "    # Dodajemy do wyniku\n",
        "    frame_result = frame[['track_id', 'Image_Metadata_T', 'Mutation']].copy()\n",
        "    frame_result['active_neighbors'] = active_neighbor_counts\n",
        "    frame_result['is_active'] = is_active\n",
        "    results.append(frame_result)\n",
        "\n",
        "# Łączymy wyniki\n",
        "df_neighbors = pd.concat(results, ignore_index=True)\n"
      ],
      "metadata": {
        "id": "YU2f459nnQlo"
      },
      "execution_count": null,
      "outputs": []
    }
  ]
}